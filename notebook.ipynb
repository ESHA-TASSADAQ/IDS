# Intrusion Detection Paper Reproduction (Colab)

This notebook demonstrates data loading, preprocessing, model training, tuning, and evaluation.

Follow the README for full instructions. Cells will be filled as modules are implemented.